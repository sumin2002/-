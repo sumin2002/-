{
  "nbformat": 4,
  "nbformat_minor": 0,
  "metadata": {
    "colab": {
      "provenance": [],
      "mount_file_id": "1nWh1oNgb2n3XEA55YFZgkJFHQUV9GQw9",
      "authorship_tag": "ABX9TyMt2Ew8CmUhjJojMu1K3Tna",
      "include_colab_link": true
    },
    "kernelspec": {
      "name": "python3",
      "display_name": "Python 3"
    },
    "language_info": {
      "name": "python"
    },
    "accelerator": "GPU",
    "gpuClass": "standard"
  },
  "cells": [
    {
      "cell_type": "markdown",
      "metadata": {
        "id": "view-in-github",
        "colab_type": "text"
      },
      "source": [
        "<a href=\"https://colab.research.google.com/github/sumin2002/-/blob/main/%EC%98%A4%ED%94%88%EC%86%8C%EC%8A%A4%200404.ipynb\" target=\"_parent\"><img src=\"https://colab.research.google.com/assets/colab-badge.svg\" alt=\"Open In Colab\"/></a>"
      ]
    },
    {
      "cell_type": "code",
      "execution_count": 26,
      "metadata": {
        "id": "A9J1gWuHxA8L"
      },
      "outputs": [],
      "source": [
        "import numpy as np\n",
        "import tensorflow as tf \n",
        "from tensorflow.keras.datasets import cifar10\n",
        "from tensorflow.keras.preprocessing.image import ImageDataGenerator\n",
        "(x_train,t_train),(x_test,t_test)=cifar10.load_data()\n",
        "batch_size=32\n",
        "epochs=20\n",
        "n_class=10\n",
        "x_train=x_train/255\n",
        "x_test=x_test/255\n",
        "t_train=tf.keras.utils.to_categorical(t_train,n_class)\n",
        "t_test=tf.keras.utils.to_categorical(t_test,n_class)"
      ]
    },
    {
      "cell_type": "code",
      "source": [
        "from tensorflow.keras.models import Sequential\n",
        "from tensorflow.keras.layers import Dense,Dropout,Activation,Flatten\n",
        "from tensorflow.keras.layers import Conv2D,MaxPooling2D\n",
        "from tensorflow.keras.optimizers import Adam\n",
        "model=Sequential()"
      ],
      "metadata": {
        "id": "QBKGVR5c0QvS"
      },
      "execution_count": 27,
      "outputs": []
    },
    {
      "cell_type": "code",
      "source": [
        "model.add(Conv2D(32,(3,3), padding=\"same\",input_shape=x_train.shape[1:]))\n",
        "model.add(Activation(\"relu\"))\n",
        "model.add(Conv2D(32,(3,3)))\n",
        "model.add(Activation(\"relu\"))\n",
        "model.add(MaxPooling2D(pool_size=(2,2)))\n",
        "model.add(Conv2D(64,(3,3),padding=\"same\"))\n",
        "model.add(Activation(\"relu\"))\n",
        "model.add(Conv2D(32,(3,3)))\n",
        "model.add(Activation(\"relu\"))\n",
        "model.add(MaxPooling2D(pool_size=(2,2)))"
      ],
      "metadata": {
        "id": "jNKq5Z4S6zXa"
      },
      "execution_count": 28,
      "outputs": []
    },
    {
      "cell_type": "code",
      "source": [
        "model.add(Flatten()) #1차원 배열로 변환\n",
        "model.add(Dense(256))\n",
        "model.add(Activation('relu'))\n",
        "model.add(Dropout(0.5)) #드롭 아웃\n",
        "model.add(Dense(n_class))\n",
        "model.add(Activation('softmax'))\n",
        "\n",
        "model.compile(optimizer=Adam(),loss='categorical_crossentropy',metrics=['accuracy'])\n",
        "model.summary()"
      ],
      "metadata": {
        "colab": {
          "base_uri": "https://localhost:8080/"
        },
        "id": "koOFZKQV836D",
        "outputId": "2ed81b42-8fed-4a16-b73e-a7107ed2fcf3"
      },
      "execution_count": 29,
      "outputs": [
        {
          "output_type": "stream",
          "name": "stdout",
          "text": [
            "Model: \"sequential_3\"\n",
            "_________________________________________________________________\n",
            " Layer (type)                Output Shape              Param #   \n",
            "=================================================================\n",
            " conv2d_14 (Conv2D)          (None, 32, 32, 32)        896       \n",
            "                                                                 \n",
            " activation_14 (Activation)  (None, 32, 32, 32)        0         \n",
            "                                                                 \n",
            " conv2d_15 (Conv2D)          (None, 30, 30, 32)        9248      \n",
            "                                                                 \n",
            " activation_15 (Activation)  (None, 30, 30, 32)        0         \n",
            "                                                                 \n",
            " max_pooling2d_3 (MaxPooling  (None, 15, 15, 32)       0         \n",
            " 2D)                                                             \n",
            "                                                                 \n",
            " conv2d_16 (Conv2D)          (None, 15, 15, 64)        18496     \n",
            "                                                                 \n",
            " activation_16 (Activation)  (None, 15, 15, 64)        0         \n",
            "                                                                 \n",
            " conv2d_17 (Conv2D)          (None, 13, 13, 32)        18464     \n",
            "                                                                 \n",
            " activation_17 (Activation)  (None, 13, 13, 32)        0         \n",
            "                                                                 \n",
            " max_pooling2d_4 (MaxPooling  (None, 6, 6, 32)         0         \n",
            " 2D)                                                             \n",
            "                                                                 \n",
            " flatten_3 (Flatten)         (None, 1152)              0         \n",
            "                                                                 \n",
            " dense_6 (Dense)             (None, 256)               295168    \n",
            "                                                                 \n",
            " activation_18 (Activation)  (None, 256)               0         \n",
            "                                                                 \n",
            " dropout_3 (Dropout)         (None, 256)               0         \n",
            "                                                                 \n",
            " dense_7 (Dense)             (None, 10)                2570      \n",
            "                                                                 \n",
            " activation_19 (Activation)  (None, 10)                0         \n",
            "                                                                 \n",
            "=================================================================\n",
            "Total params: 344,842\n",
            "Trainable params: 344,842\n",
            "Non-trainable params: 0\n",
            "_________________________________________________________________\n"
          ]
        }
      ]
    },
    {
      "cell_type": "code",
      "source": [
        "from tensorflow.keras.preprocessing.image import ImageDataGenerator\n",
        "\n",
        "generator=ImageDataGenerator(\n",
        "    rotation_range=0.2,\n",
        "    horizontal_flip=True)\n",
        "generator.fit(x_train)\n",
        "\n",
        "history=model.fit_generator(generator.flow(x_train,t_train,batch_size=batch_size),epochs=epochs,validation_data=(x_test,t_test))"
      ],
      "metadata": {
        "colab": {
          "base_uri": "https://localhost:8080/"
        },
        "id": "nYdB2DJH-xbk",
        "outputId": "010adb97-b177-4dee-bc76-b50ec1093bde"
      },
      "execution_count": 30,
      "outputs": [
        {
          "output_type": "stream",
          "name": "stdout",
          "text": [
            "Epoch 1/20\n"
          ]
        },
        {
          "output_type": "stream",
          "name": "stderr",
          "text": [
            "<ipython-input-30-fe657511011f>:8: UserWarning: `Model.fit_generator` is deprecated and will be removed in a future version. Please use `Model.fit`, which supports generators.\n",
            "  history=model.fit_generator(generator.flow(x_train,t_train,batch_size=batch_size),epochs=epochs,validation_data=(x_test,t_test))\n"
          ]
        },
        {
          "output_type": "stream",
          "name": "stdout",
          "text": [
            "1563/1563 [==============================] - 41s 19ms/step - loss: 1.5527 - accuracy: 0.4335 - val_loss: 1.1655 - val_accuracy: 0.5748\n",
            "Epoch 2/20\n",
            "1563/1563 [==============================] - 29s 18ms/step - loss: 1.1477 - accuracy: 0.5922 - val_loss: 0.9745 - val_accuracy: 0.6530\n",
            "Epoch 3/20\n",
            "1563/1563 [==============================] - 28s 18ms/step - loss: 1.0057 - accuracy: 0.6488 - val_loss: 0.9365 - val_accuracy: 0.6660\n",
            "Epoch 4/20\n",
            "1563/1563 [==============================] - 29s 18ms/step - loss: 0.9140 - accuracy: 0.6803 - val_loss: 0.8814 - val_accuracy: 0.6962\n",
            "Epoch 5/20\n",
            "1563/1563 [==============================] - 32s 20ms/step - loss: 0.8577 - accuracy: 0.6996 - val_loss: 0.8144 - val_accuracy: 0.7202\n",
            "Epoch 6/20\n",
            "1563/1563 [==============================] - 29s 19ms/step - loss: 0.8155 - accuracy: 0.7151 - val_loss: 0.7824 - val_accuracy: 0.7292\n",
            "Epoch 7/20\n",
            "1563/1563 [==============================] - 34s 21ms/step - loss: 0.7789 - accuracy: 0.7275 - val_loss: 0.7508 - val_accuracy: 0.7382\n",
            "Epoch 8/20\n",
            "1563/1563 [==============================] - 29s 19ms/step - loss: 0.7438 - accuracy: 0.7400 - val_loss: 0.7284 - val_accuracy: 0.7494\n",
            "Epoch 9/20\n",
            "1563/1563 [==============================] - 29s 18ms/step - loss: 0.7229 - accuracy: 0.7487 - val_loss: 0.7419 - val_accuracy: 0.7431\n",
            "Epoch 10/20\n",
            "1563/1563 [==============================] - 30s 19ms/step - loss: 0.6928 - accuracy: 0.7584 - val_loss: 0.7251 - val_accuracy: 0.7470\n",
            "Epoch 11/20\n",
            "1563/1563 [==============================] - 32s 21ms/step - loss: 0.6750 - accuracy: 0.7637 - val_loss: 0.7314 - val_accuracy: 0.7479\n",
            "Epoch 12/20\n",
            "1563/1563 [==============================] - 49s 32ms/step - loss: 0.6558 - accuracy: 0.7726 - val_loss: 0.7034 - val_accuracy: 0.7561\n",
            "Epoch 13/20\n",
            "1563/1563 [==============================] - 42s 27ms/step - loss: 0.6418 - accuracy: 0.7757 - val_loss: 0.7423 - val_accuracy: 0.7501\n",
            "Epoch 14/20\n",
            "1563/1563 [==============================] - 38s 24ms/step - loss: 0.6232 - accuracy: 0.7817 - val_loss: 0.6926 - val_accuracy: 0.7681\n",
            "Epoch 15/20\n",
            "1563/1563 [==============================] - 36s 23ms/step - loss: 0.6178 - accuracy: 0.7832 - val_loss: 0.6847 - val_accuracy: 0.7698\n",
            "Epoch 16/20\n",
            "1563/1563 [==============================] - 36s 23ms/step - loss: 0.6028 - accuracy: 0.7888 - val_loss: 0.6818 - val_accuracy: 0.7657\n",
            "Epoch 17/20\n",
            "1563/1563 [==============================] - 38s 25ms/step - loss: 0.5928 - accuracy: 0.7919 - val_loss: 0.6794 - val_accuracy: 0.7743\n",
            "Epoch 18/20\n",
            "1563/1563 [==============================] - 34s 22ms/step - loss: 0.5657 - accuracy: 0.8019 - val_loss: 0.7115 - val_accuracy: 0.7645\n",
            "Epoch 19/20\n",
            "1563/1563 [==============================] - 28s 18ms/step - loss: 0.5651 - accuracy: 0.8000 - val_loss: 0.6926 - val_accuracy: 0.7673\n",
            "Epoch 20/20\n",
            "1563/1563 [==============================] - 29s 19ms/step - loss: 0.5596 - accuracy: 0.8035 - val_loss: 0.6858 - val_accuracy: 0.7730\n"
          ]
        }
      ]
    },
    {
      "cell_type": "code",
      "source": [
        "import matplotlib.pyplot as plt\n",
        "train_loss=history.history['loss']\n",
        "train_acc=history.history['accuracy']\n",
        "val_loss=history.history['val_loss']\n",
        "val_acc=history.history['val_accuracy']\n",
        "\n",
        "plt.plot(np.arange(len(train_loss)),train_loss,label='loss')\n",
        "plt.plot(np.arange(len(val_loss)),val_loss,label='val_loss')\n",
        "\n",
        "plt.plot(np.arange(len(train_acc)),train_acc,label='acc')\n",
        "plt.plot(np.arange(len(val_acc)),val_acc,label='val_acc')\n",
        "plt.legend()\n",
        "plt.show()"
      ],
      "metadata": {
        "id": "PERaNocwFuWh",
        "outputId": "dabb43da-7c07-41b0-9d24-9646782e355b",
        "colab": {
          "base_uri": "https://localhost:8080/",
          "height": 433
        }
      },
      "execution_count": 33,
      "outputs": [
        {
          "output_type": "display_data",
          "data": {
            "text/plain": [
              "<Figure size 640x480 with 1 Axes>"
            ],
            "image/png": "[encoded data removed]"
          },
          "metadata": {}
        }
      ]
    },
    {
      "cell_type": "code",
      "source": [
        "loss,accuracy=model.evaluate(x_test,t_test)\n",
        "print('오차:',loss,'정밀도:',accuracy)"
      ],
      "metadata": {
        "id": "nptTiJwxHclL",
        "outputId": "92958c91-2b80-454b-be97-ef374917e595",
        "colab": {
          "base_uri": "https://localhost:8080/"
        }
      },
      "execution_count": 34,
      "outputs": [
        {
          "output_type": "stream",
          "name": "stdout",
          "text": [
            "313/313 [==============================] - 1s 3ms/step - loss: 0.6858 - accuracy: 0.7730\n",
            "오차: 0.6858387589454651 정밀도: 0.7730000019073486\n"
          ]
        }
      ]
    },
    {
      "cell_type": "code",
      "source": [
        "from google.colab import drive\n",
        "drive.mount('/content/drive/')"
      ],
      "metadata": {
        "id": "Ev40TthUJQJy",
        "outputId": "9c02b318-f982-4a01-9ec4-c952e6f59020",
        "colab": {
          "base_uri": "https://localhost:8080/"
        }
      },
      "execution_count": 10,
      "outputs": [
        {
          "output_type": "stream",
          "name": "stdout",
          "text": [
            "Drive already mounted at /content/drive/; to attempt to forcibly remount, call drive.mount(\"/content/drive/\", force_remount=True).\n"
          ]
        }
      ]
    },
    {
      "cell_type": "code",
      "source": [
        "import os \n",
        "from keras.models import load_model\n",
        "\n",
        "path='/content/drive/My Drive/sum/'\n",
        "#디렉터리를 작성한다\n",
        "if not os.path.exists(path):\n",
        "  os.makedirs(path)\n",
        "\n",
        "#파일을 저장한다\n",
        "model.save(path+\"model_sum.h5\")"
      ],
      "metadata": {
        "id": "iJ6YxnJIJxNv",
        "outputId": "4c0d046f-a129-4ef1-879e-afcc8d0d3440",
        "colab": {
          "base_uri": "https://localhost:8080/",
          "height": 209
        }
      },
      "execution_count": 9,
      "outputs": [
        {
          "output_type": "error",
          "ename": "NameError",
          "evalue": "ignored",
          "traceback": [
            "\u001b[0;31m---------------------------------------------------------------------------\u001b[0m",
            "\u001b[0;31mNameError\u001b[0m                                 Traceback (most recent call last)",
            "\u001b[0;32m<ipython-input-9-00f099bd75f6>\u001b[0m in \u001b[0;36m<module>\u001b[0;34m\u001b[0m\n\u001b[1;32m      8\u001b[0m \u001b[0;34m\u001b[0m\u001b[0m\n\u001b[1;32m      9\u001b[0m \u001b[0;31m#파일을 저장한다\u001b[0m\u001b[0;34m\u001b[0m\u001b[0;34m\u001b[0m\u001b[0m\n\u001b[0;32m---> 10\u001b[0;31m \u001b[0mmodel\u001b[0m\u001b[0;34m.\u001b[0m\u001b[0msave\u001b[0m\u001b[0;34m(\u001b[0m\u001b[0mpath\u001b[0m\u001b[0;34m+\u001b[0m\u001b[0;34m\"model_sum.h5\"\u001b[0m\u001b[0;34m)\u001b[0m\u001b[0;34m\u001b[0m\u001b[0;34m\u001b[0m\u001b[0m\n\u001b[0m",
            "\u001b[0;31mNameError\u001b[0m: name 'model' is not defined"
          ]
        }
      ]
    }
  ]
}